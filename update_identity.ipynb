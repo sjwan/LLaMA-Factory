{
 "cells": [
  {
   "cell_type": "code",
   "execution_count": null,
   "id": "8751fdd7-57a6-4eaf-9b7d-43bbaee293d1",
   "metadata": {},
   "outputs": [],
   "source": [
    "import json\n",
    "\n",
    "MODEL_NAME=\"lama Model\"\n",
    "AUTHOR=\"张三\"\n",
    "\n",
    "with open(\"data/identity.json\", \"r\", encoding=\"utf-8\") as f:\n",
    "    dataset = json.load(f)\n",
    "\n",
    "for sample in dataset:\n",
    "    sample[\"output\"] = sample[\"output\"].replace(\"{{author}}\", MODEL_NAME).replace(\"{{name}}\", AUTHOR)\n",
    "\n",
    "with open(\"data/identity.json\", \"w\", encoding=\"utf-8\") as f:\n",
    "    json.dump(dataset, f, indent=2, ensure_ascii=False)"
   ]
  }
 ],
 "metadata": {
  "kernelspec": {
   "display_name": "Python 3 (ipykernel)",
   "language": "python",
   "name": "python3"
  },
  "language_info": {
   "codemirror_mode": {
    "name": "ipython",
    "version": 3
   },
   "file_extension": ".py",
   "mimetype": "text/x-python",
   "name": "python",
   "nbconvert_exporter": "python",
   "pygments_lexer": "ipython3",
   "version": "3.10.12"
  }
 },
 "nbformat": 4,
 "nbformat_minor": 5
}
